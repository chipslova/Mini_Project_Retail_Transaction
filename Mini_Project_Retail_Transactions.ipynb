{
 "cells": [
  {
   "cell_type": "markdown",
   "id": "cc183f57-18f9-47d6-8c2b-d4987e39bb2c",
   "metadata": {},
   "source": [
    "## MINI PROJECT : RETAIL TRANSACTIONS\n",
    "## Kelompok 3\n",
    "1. Claudia Venesiatan\n",
    "2. Sela Tri Indah Sari\n",
    "3. Luthfi Sifa Khaerunnisa\n",
    "4. Fahryan Putra Ramadi\n",
    "5. Ngurah Gede Ivan Satya Wibawa"
   ]
  },
  {
   "cell_type": "code",
   "execution_count": 449,
   "id": "2dc9272d-7163-44f4-82c7-a974058b873b",
   "metadata": {},
   "outputs": [],
   "source": [
    "#import libraries\n",
    "import numpy as np\n",
    "import pandas as pd\n",
    "\n",
    "# import visualization\n",
    "import seaborn as sns\n",
    "import matplotlib.pyplot as plt\n",
    "\n",
    "# Ignore Warning\n",
    "import warnings\n",
    "warnings.filterwarnings(\"ignore\")"
   ]
  },
  {
   "cell_type": "code",
   "execution_count": 451,
   "id": "9867eb12-55ce-49b3-be0d-8cba059d9da4",
   "metadata": {},
   "outputs": [],
   "source": [
    "# load data from local file\n",
    "df = pd.read_csv(\"data/Retail_Transactions_Dataset.csv\")"
   ]
  },
  {
   "cell_type": "markdown",
   "id": "1ef1899e-2cbe-4d74-b24e-f54d8a36a2b9",
   "metadata": {},
   "source": [
    "## Data Quality Assessment"
   ]
  },
  {
   "cell_type": "code",
   "execution_count": 455,
   "id": "b391dcc9-a7c1-43cf-985f-2fe7176ac9c6",
   "metadata": {},
   "outputs": [
    {
     "data": {
      "text/html": [
       "<div>\n",
       "<style scoped>\n",
       "    .dataframe tbody tr th:only-of-type {\n",
       "        vertical-align: middle;\n",
       "    }\n",
       "\n",
       "    .dataframe tbody tr th {\n",
       "        vertical-align: top;\n",
       "    }\n",
       "\n",
       "    .dataframe thead th {\n",
       "        text-align: right;\n",
       "    }\n",
       "</style>\n",
       "<table border=\"1\" class=\"dataframe\">\n",
       "  <thead>\n",
       "    <tr style=\"text-align: right;\">\n",
       "      <th></th>\n",
       "      <th>Transaction_ID</th>\n",
       "      <th>Date</th>\n",
       "      <th>Customer_Name</th>\n",
       "      <th>Product</th>\n",
       "      <th>Total_Items</th>\n",
       "      <th>Total_Cost</th>\n",
       "      <th>Payment_Method</th>\n",
       "      <th>City</th>\n",
       "      <th>Store_Type</th>\n",
       "      <th>Discount_Applied</th>\n",
       "      <th>Customer_Category</th>\n",
       "      <th>Season</th>\n",
       "      <th>Promotion</th>\n",
       "    </tr>\n",
       "  </thead>\n",
       "  <tbody>\n",
       "    <tr>\n",
       "      <th>0</th>\n",
       "      <td>1000000000</td>\n",
       "      <td>2022-01-21 06:27:29</td>\n",
       "      <td>Stacey Price</td>\n",
       "      <td>['Ketchup', 'Shaving Cream', 'Light Bulbs']</td>\n",
       "      <td>3</td>\n",
       "      <td>71.65</td>\n",
       "      <td>Mobile Payment</td>\n",
       "      <td>Los Angeles</td>\n",
       "      <td>Warehouse Club</td>\n",
       "      <td>True</td>\n",
       "      <td>Homemaker</td>\n",
       "      <td>Winter</td>\n",
       "      <td>NaN</td>\n",
       "    </tr>\n",
       "    <tr>\n",
       "      <th>1</th>\n",
       "      <td>1000000001</td>\n",
       "      <td>2023-03-01 13:01:21</td>\n",
       "      <td>Michelle Carlson</td>\n",
       "      <td>['Ice Cream', 'Milk', 'Olive Oil', 'Bread', 'P...</td>\n",
       "      <td>2</td>\n",
       "      <td>25.93</td>\n",
       "      <td>Cash</td>\n",
       "      <td>San Francisco</td>\n",
       "      <td>Specialty Store</td>\n",
       "      <td>True</td>\n",
       "      <td>Professional</td>\n",
       "      <td>Fall</td>\n",
       "      <td>BOGO (Buy One Get One)</td>\n",
       "    </tr>\n",
       "    <tr>\n",
       "      <th>2</th>\n",
       "      <td>1000000002</td>\n",
       "      <td>2024-03-21 15:37:04</td>\n",
       "      <td>Lisa Graves</td>\n",
       "      <td>['Spinach']</td>\n",
       "      <td>6</td>\n",
       "      <td>41.49</td>\n",
       "      <td>Credit Card</td>\n",
       "      <td>Houston</td>\n",
       "      <td>Department Store</td>\n",
       "      <td>True</td>\n",
       "      <td>Professional</td>\n",
       "      <td>Winter</td>\n",
       "      <td>NaN</td>\n",
       "    </tr>\n",
       "    <tr>\n",
       "      <th>3</th>\n",
       "      <td>1000000003</td>\n",
       "      <td>2020-10-31 09:59:47</td>\n",
       "      <td>Mrs. Patricia May</td>\n",
       "      <td>['Tissues', 'Mustard']</td>\n",
       "      <td>1</td>\n",
       "      <td>39.34</td>\n",
       "      <td>Mobile Payment</td>\n",
       "      <td>Chicago</td>\n",
       "      <td>Pharmacy</td>\n",
       "      <td>True</td>\n",
       "      <td>Homemaker</td>\n",
       "      <td>Spring</td>\n",
       "      <td>NaN</td>\n",
       "    </tr>\n",
       "    <tr>\n",
       "      <th>4</th>\n",
       "      <td>1000000004</td>\n",
       "      <td>2020-12-10 00:59:59</td>\n",
       "      <td>Susan Mitchell</td>\n",
       "      <td>['Dish Soap']</td>\n",
       "      <td>10</td>\n",
       "      <td>16.42</td>\n",
       "      <td>Debit Card</td>\n",
       "      <td>Houston</td>\n",
       "      <td>Specialty Store</td>\n",
       "      <td>False</td>\n",
       "      <td>Young Adult</td>\n",
       "      <td>Winter</td>\n",
       "      <td>Discount on Selected Items</td>\n",
       "    </tr>\n",
       "  </tbody>\n",
       "</table>\n",
       "</div>"
      ],
      "text/plain": [
       "   Transaction_ID                 Date      Customer_Name  \\\n",
       "0      1000000000  2022-01-21 06:27:29       Stacey Price   \n",
       "1      1000000001  2023-03-01 13:01:21   Michelle Carlson   \n",
       "2      1000000002  2024-03-21 15:37:04        Lisa Graves   \n",
       "3      1000000003  2020-10-31 09:59:47  Mrs. Patricia May   \n",
       "4      1000000004  2020-12-10 00:59:59     Susan Mitchell   \n",
       "\n",
       "                                             Product  Total_Items  Total_Cost  \\\n",
       "0        ['Ketchup', 'Shaving Cream', 'Light Bulbs']            3       71.65   \n",
       "1  ['Ice Cream', 'Milk', 'Olive Oil', 'Bread', 'P...            2       25.93   \n",
       "2                                        ['Spinach']            6       41.49   \n",
       "3                             ['Tissues', 'Mustard']            1       39.34   \n",
       "4                                      ['Dish Soap']           10       16.42   \n",
       "\n",
       "   Payment_Method           City        Store_Type  Discount_Applied  \\\n",
       "0  Mobile Payment    Los Angeles    Warehouse Club              True   \n",
       "1            Cash  San Francisco   Specialty Store              True   \n",
       "2     Credit Card        Houston  Department Store              True   \n",
       "3  Mobile Payment        Chicago          Pharmacy              True   \n",
       "4      Debit Card        Houston   Specialty Store             False   \n",
       "\n",
       "  Customer_Category  Season                   Promotion  \n",
       "0         Homemaker  Winter                         NaN  \n",
       "1      Professional    Fall      BOGO (Buy One Get One)  \n",
       "2      Professional  Winter                         NaN  \n",
       "3         Homemaker  Spring                         NaN  \n",
       "4       Young Adult  Winter  Discount on Selected Items  "
      ]
     },
     "execution_count": 455,
     "metadata": {},
     "output_type": "execute_result"
    }
   ],
   "source": [
    "# Show Upper Data\n",
    "df.head()"
   ]
  },
  {
   "cell_type": "code",
   "execution_count": 457,
   "id": "483e15b7-70e2-4710-872f-b5d81e2a429a",
   "metadata": {},
   "outputs": [
    {
     "data": {
      "text/html": [
       "<div>\n",
       "<style scoped>\n",
       "    .dataframe tbody tr th:only-of-type {\n",
       "        vertical-align: middle;\n",
       "    }\n",
       "\n",
       "    .dataframe tbody tr th {\n",
       "        vertical-align: top;\n",
       "    }\n",
       "\n",
       "    .dataframe thead th {\n",
       "        text-align: right;\n",
       "    }\n",
       "</style>\n",
       "<table border=\"1\" class=\"dataframe\">\n",
       "  <thead>\n",
       "    <tr style=\"text-align: right;\">\n",
       "      <th></th>\n",
       "      <th>Transaction_ID</th>\n",
       "      <th>Date</th>\n",
       "      <th>Customer_Name</th>\n",
       "      <th>Product</th>\n",
       "      <th>Total_Items</th>\n",
       "      <th>Total_Cost</th>\n",
       "      <th>Payment_Method</th>\n",
       "      <th>City</th>\n",
       "      <th>Store_Type</th>\n",
       "      <th>Discount_Applied</th>\n",
       "      <th>Customer_Category</th>\n",
       "      <th>Season</th>\n",
       "      <th>Promotion</th>\n",
       "    </tr>\n",
       "  </thead>\n",
       "  <tbody>\n",
       "    <tr>\n",
       "      <th>999995</th>\n",
       "      <td>1000999995</td>\n",
       "      <td>2023-03-27 06:12:10</td>\n",
       "      <td>Lisa Gonzalez</td>\n",
       "      <td>['Pickles', 'Carrots', 'Peanut Butter', 'Spong...</td>\n",
       "      <td>1</td>\n",
       "      <td>22.07</td>\n",
       "      <td>Debit Card</td>\n",
       "      <td>Los Angeles</td>\n",
       "      <td>Supermarket</td>\n",
       "      <td>False</td>\n",
       "      <td>Middle-Aged</td>\n",
       "      <td>Winter</td>\n",
       "      <td>NaN</td>\n",
       "    </tr>\n",
       "    <tr>\n",
       "      <th>999996</th>\n",
       "      <td>1000999996</td>\n",
       "      <td>2022-05-19 05:13:58</td>\n",
       "      <td>Emily Graham</td>\n",
       "      <td>['Cereal']</td>\n",
       "      <td>8</td>\n",
       "      <td>80.25</td>\n",
       "      <td>Cash</td>\n",
       "      <td>Houston</td>\n",
       "      <td>Warehouse Club</td>\n",
       "      <td>True</td>\n",
       "      <td>Senior Citizen</td>\n",
       "      <td>Spring</td>\n",
       "      <td>Discount on Selected Items</td>\n",
       "    </tr>\n",
       "    <tr>\n",
       "      <th>999997</th>\n",
       "      <td>1000999997</td>\n",
       "      <td>2021-09-03 13:59:39</td>\n",
       "      <td>Cynthia Anderson</td>\n",
       "      <td>['Trash Bags']</td>\n",
       "      <td>3</td>\n",
       "      <td>60.74</td>\n",
       "      <td>Credit Card</td>\n",
       "      <td>Los Angeles</td>\n",
       "      <td>Convenience Store</td>\n",
       "      <td>False</td>\n",
       "      <td>Homemaker</td>\n",
       "      <td>Winter</td>\n",
       "      <td>NaN</td>\n",
       "    </tr>\n",
       "    <tr>\n",
       "      <th>999998</th>\n",
       "      <td>1000999998</td>\n",
       "      <td>2023-10-17 05:50:40</td>\n",
       "      <td>Michael Rodriguez</td>\n",
       "      <td>['Diapers', 'Coffee', 'Coffee', 'Mop']</td>\n",
       "      <td>3</td>\n",
       "      <td>23.48</td>\n",
       "      <td>Debit Card</td>\n",
       "      <td>San Francisco</td>\n",
       "      <td>Supermarket</td>\n",
       "      <td>True</td>\n",
       "      <td>Retiree</td>\n",
       "      <td>Winter</td>\n",
       "      <td>BOGO (Buy One Get One)</td>\n",
       "    </tr>\n",
       "    <tr>\n",
       "      <th>999999</th>\n",
       "      <td>1000999999</td>\n",
       "      <td>2020-06-15 11:58:49</td>\n",
       "      <td>Jennifer Davis</td>\n",
       "      <td>['Trash Cans', 'Mop', 'Jam']</td>\n",
       "      <td>8</td>\n",
       "      <td>44.12</td>\n",
       "      <td>Credit Card</td>\n",
       "      <td>Atlanta</td>\n",
       "      <td>Pharmacy</td>\n",
       "      <td>False</td>\n",
       "      <td>Professional</td>\n",
       "      <td>Fall</td>\n",
       "      <td>Discount on Selected Items</td>\n",
       "    </tr>\n",
       "  </tbody>\n",
       "</table>\n",
       "</div>"
      ],
      "text/plain": [
       "        Transaction_ID                 Date      Customer_Name  \\\n",
       "999995      1000999995  2023-03-27 06:12:10      Lisa Gonzalez   \n",
       "999996      1000999996  2022-05-19 05:13:58       Emily Graham   \n",
       "999997      1000999997  2021-09-03 13:59:39   Cynthia Anderson   \n",
       "999998      1000999998  2023-10-17 05:50:40  Michael Rodriguez   \n",
       "999999      1000999999  2020-06-15 11:58:49     Jennifer Davis   \n",
       "\n",
       "                                                  Product  Total_Items  \\\n",
       "999995  ['Pickles', 'Carrots', 'Peanut Butter', 'Spong...            1   \n",
       "999996                                         ['Cereal']            8   \n",
       "999997                                     ['Trash Bags']            3   \n",
       "999998             ['Diapers', 'Coffee', 'Coffee', 'Mop']            3   \n",
       "999999                       ['Trash Cans', 'Mop', 'Jam']            8   \n",
       "\n",
       "        Total_Cost Payment_Method           City         Store_Type  \\\n",
       "999995       22.07     Debit Card    Los Angeles        Supermarket   \n",
       "999996       80.25           Cash        Houston     Warehouse Club   \n",
       "999997       60.74    Credit Card    Los Angeles  Convenience Store   \n",
       "999998       23.48     Debit Card  San Francisco        Supermarket   \n",
       "999999       44.12    Credit Card        Atlanta           Pharmacy   \n",
       "\n",
       "        Discount_Applied Customer_Category  Season                   Promotion  \n",
       "999995             False       Middle-Aged  Winter                         NaN  \n",
       "999996              True    Senior Citizen  Spring  Discount on Selected Items  \n",
       "999997             False         Homemaker  Winter                         NaN  \n",
       "999998              True           Retiree  Winter      BOGO (Buy One Get One)  \n",
       "999999             False      Professional    Fall  Discount on Selected Items  "
      ]
     },
     "execution_count": 457,
     "metadata": {},
     "output_type": "execute_result"
    }
   ],
   "source": [
    "# Show Bottom Data\n",
    "df.tail()"
   ]
  },
  {
   "cell_type": "code",
   "execution_count": 459,
   "id": "44ace3dc-88f7-4cda-af99-4a32e81ee549",
   "metadata": {},
   "outputs": [
    {
     "data": {
      "text/plain": [
       "(1000000, 13)"
      ]
     },
     "execution_count": 459,
     "metadata": {},
     "output_type": "execute_result"
    }
   ],
   "source": [
    "# Check Number of Row and Columns\n",
    "df.shape"
   ]
  },
  {
   "cell_type": "code",
   "execution_count": 461,
   "id": "b72cb6a2-6081-457a-be0c-a8b2eb661379",
   "metadata": {},
   "outputs": [
    {
     "name": "stdout",
     "output_type": "stream",
     "text": [
      "<class 'pandas.core.frame.DataFrame'>\n",
      "RangeIndex: 1000000 entries, 0 to 999999\n",
      "Data columns (total 13 columns):\n",
      " #   Column             Non-Null Count    Dtype  \n",
      "---  ------             --------------    -----  \n",
      " 0   Transaction_ID     1000000 non-null  int64  \n",
      " 1   Date               1000000 non-null  object \n",
      " 2   Customer_Name      1000000 non-null  object \n",
      " 3   Product            1000000 non-null  object \n",
      " 4   Total_Items        1000000 non-null  int64  \n",
      " 5   Total_Cost         1000000 non-null  float64\n",
      " 6   Payment_Method     1000000 non-null  object \n",
      " 7   City               1000000 non-null  object \n",
      " 8   Store_Type         1000000 non-null  object \n",
      " 9   Discount_Applied   1000000 non-null  bool   \n",
      " 10  Customer_Category  1000000 non-null  object \n",
      " 11  Season             1000000 non-null  object \n",
      " 12  Promotion          666057 non-null   object \n",
      "dtypes: bool(1), float64(1), int64(2), object(9)\n",
      "memory usage: 92.5+ MB\n"
     ]
    }
   ],
   "source": [
    "# Show info (Data Type before transforming)\n",
    "df.info()"
   ]
  },
  {
   "cell_type": "code",
   "execution_count": 462,
   "id": "d5146f8b-f077-474e-b18b-b531a45e465f",
   "metadata": {},
   "outputs": [
    {
     "data": {
      "text/plain": [
       "\u001b[1;31mSignature:\u001b[0m\n",
       "\u001b[0mdf\u001b[0m\u001b[1;33m.\u001b[0m\u001b[0minfo\u001b[0m\u001b[1;33m(\u001b[0m\u001b[1;33m\n",
       "\u001b[0m    \u001b[0mverbose\u001b[0m\u001b[1;33m:\u001b[0m \u001b[1;34m'bool | None'\u001b[0m \u001b[1;33m=\u001b[0m \u001b[1;32mNone\u001b[0m\u001b[1;33m,\u001b[0m\u001b[1;33m\n",
       "\u001b[0m    \u001b[0mbuf\u001b[0m\u001b[1;33m:\u001b[0m \u001b[1;34m'WriteBuffer[str] | None'\u001b[0m \u001b[1;33m=\u001b[0m \u001b[1;32mNone\u001b[0m\u001b[1;33m,\u001b[0m\u001b[1;33m\n",
       "\u001b[0m    \u001b[0mmax_cols\u001b[0m\u001b[1;33m:\u001b[0m \u001b[1;34m'int | None'\u001b[0m \u001b[1;33m=\u001b[0m \u001b[1;32mNone\u001b[0m\u001b[1;33m,\u001b[0m\u001b[1;33m\n",
       "\u001b[0m    \u001b[0mmemory_usage\u001b[0m\u001b[1;33m:\u001b[0m \u001b[1;34m'bool | str | None'\u001b[0m \u001b[1;33m=\u001b[0m \u001b[1;32mNone\u001b[0m\u001b[1;33m,\u001b[0m\u001b[1;33m\n",
       "\u001b[0m    \u001b[0mshow_counts\u001b[0m\u001b[1;33m:\u001b[0m \u001b[1;34m'bool | None'\u001b[0m \u001b[1;33m=\u001b[0m \u001b[1;32mNone\u001b[0m\u001b[1;33m,\u001b[0m\u001b[1;33m\n",
       "\u001b[0m\u001b[1;33m)\u001b[0m \u001b[1;33m->\u001b[0m \u001b[1;34m'None'\u001b[0m\u001b[1;33m\u001b[0m\u001b[1;33m\u001b[0m\u001b[0m\n",
       "\u001b[1;31mDocstring:\u001b[0m\n",
       "Print a concise summary of a DataFrame.\n",
       "\n",
       "This method prints information about a DataFrame including\n",
       "the index dtype and columns, non-null values and memory usage.\n",
       "\n",
       "Parameters\n",
       "----------\n",
       "verbose : bool, optional\n",
       "    Whether to print the full summary. By default, the setting in\n",
       "    ``pandas.options.display.max_info_columns`` is followed.\n",
       "buf : writable buffer, defaults to sys.stdout\n",
       "    Where to send the output. By default, the output is printed to\n",
       "    sys.stdout. Pass a writable buffer if you need to further process\n",
       "    the output.\n",
       "max_cols : int, optional\n",
       "    When to switch from the verbose to the truncated output. If the\n",
       "    DataFrame has more than `max_cols` columns, the truncated output\n",
       "    is used. By default, the setting in\n",
       "    ``pandas.options.display.max_info_columns`` is used.\n",
       "memory_usage : bool, str, optional\n",
       "    Specifies whether total memory usage of the DataFrame\n",
       "    elements (including the index) should be displayed. By default,\n",
       "    this follows the ``pandas.options.display.memory_usage`` setting.\n",
       "\n",
       "    True always show memory usage. False never shows memory usage.\n",
       "    A value of 'deep' is equivalent to \"True with deep introspection\".\n",
       "    Memory usage is shown in human-readable units (base-2\n",
       "    representation). Without deep introspection a memory estimation is\n",
       "    made based in column dtype and number of rows assuming values\n",
       "    consume the same memory amount for corresponding dtypes. With deep\n",
       "    memory introspection, a real memory usage calculation is performed\n",
       "    at the cost of computational resources. See the\n",
       "    :ref:`Frequently Asked Questions <df-memory-usage>` for more\n",
       "    details.\n",
       "show_counts : bool, optional\n",
       "    Whether to show the non-null counts. By default, this is shown\n",
       "    only if the DataFrame is smaller than\n",
       "    ``pandas.options.display.max_info_rows`` and\n",
       "    ``pandas.options.display.max_info_columns``. A value of True always\n",
       "    shows the counts, and False never shows the counts.\n",
       "\n",
       "Returns\n",
       "-------\n",
       "None\n",
       "    This method prints a summary of a DataFrame and returns None.\n",
       "\n",
       "See Also\n",
       "--------\n",
       "DataFrame.describe: Generate descriptive statistics of DataFrame\n",
       "    columns.\n",
       "DataFrame.memory_usage: Memory usage of DataFrame columns.\n",
       "\n",
       "Examples\n",
       "--------\n",
       ">>> int_values = [1, 2, 3, 4, 5]\n",
       ">>> text_values = ['alpha', 'beta', 'gamma', 'delta', 'epsilon']\n",
       ">>> float_values = [0.0, 0.25, 0.5, 0.75, 1.0]\n",
       ">>> df = pd.DataFrame({\"int_col\": int_values, \"text_col\": text_values,\n",
       "...                   \"float_col\": float_values})\n",
       ">>> df\n",
       "    int_col text_col  float_col\n",
       "0        1    alpha       0.00\n",
       "1        2     beta       0.25\n",
       "2        3    gamma       0.50\n",
       "3        4    delta       0.75\n",
       "4        5  epsilon       1.00\n",
       "\n",
       "Prints information of all columns:\n",
       "\n",
       ">>> df.info(verbose=True)\n",
       "<class 'pandas.core.frame.DataFrame'>\n",
       "RangeIndex: 5 entries, 0 to 4\n",
       "Data columns (total 3 columns):\n",
       " #   Column     Non-Null Count  Dtype\n",
       "---  ------     --------------  -----\n",
       " 0   int_col    5 non-null      int64\n",
       " 1   text_col   5 non-null      object\n",
       " 2   float_col  5 non-null      float64\n",
       "dtypes: float64(1), int64(1), object(1)\n",
       "memory usage: 248.0+ bytes\n",
       "\n",
       "Prints a summary of columns count and its dtypes but not per column\n",
       "information:\n",
       "\n",
       ">>> df.info(verbose=False)\n",
       "<class 'pandas.core.frame.DataFrame'>\n",
       "RangeIndex: 5 entries, 0 to 4\n",
       "Columns: 3 entries, int_col to float_col\n",
       "dtypes: float64(1), int64(1), object(1)\n",
       "memory usage: 248.0+ bytes\n",
       "\n",
       "Pipe output of DataFrame.info to buffer instead of sys.stdout, get\n",
       "buffer content and writes to a text file:\n",
       "\n",
       ">>> import io\n",
       ">>> buffer = io.StringIO()\n",
       ">>> df.info(buf=buffer)\n",
       ">>> s = buffer.getvalue()\n",
       ">>> with open(\"df_info.txt\", \"w\",\n",
       "...           encoding=\"utf-8\") as f:  # doctest: +SKIP\n",
       "...     f.write(s)\n",
       "260\n",
       "\n",
       "The `memory_usage` parameter allows deep introspection mode, specially\n",
       "useful for big DataFrames and fine-tune memory optimization:\n",
       "\n",
       ">>> random_strings_array = np.random.choice(['a', 'b', 'c'], 10 ** 6)\n",
       ">>> df = pd.DataFrame({\n",
       "...     'column_1': np.random.choice(['a', 'b', 'c'], 10 ** 6),\n",
       "...     'column_2': np.random.choice(['a', 'b', 'c'], 10 ** 6),\n",
       "...     'column_3': np.random.choice(['a', 'b', 'c'], 10 ** 6)\n",
       "... })\n",
       ">>> df.info()\n",
       "<class 'pandas.core.frame.DataFrame'>\n",
       "RangeIndex: 1000000 entries, 0 to 999999\n",
       "Data columns (total 3 columns):\n",
       " #   Column    Non-Null Count    Dtype\n",
       "---  ------    --------------    -----\n",
       " 0   column_1  1000000 non-null  object\n",
       " 1   column_2  1000000 non-null  object\n",
       " 2   column_3  1000000 non-null  object\n",
       "dtypes: object(3)\n",
       "memory usage: 22.9+ MB\n",
       "\n",
       ">>> df.info(memory_usage='deep')\n",
       "<class 'pandas.core.frame.DataFrame'>\n",
       "RangeIndex: 1000000 entries, 0 to 999999\n",
       "Data columns (total 3 columns):\n",
       " #   Column    Non-Null Count    Dtype\n",
       "---  ------    --------------    -----\n",
       " 0   column_1  1000000 non-null  object\n",
       " 1   column_2  1000000 non-null  object\n",
       " 2   column_3  1000000 non-null  object\n",
       "dtypes: object(3)\n",
       "memory usage: 165.9 MB\n",
       "\u001b[1;31mFile:\u001b[0m      c:\\users\\luthf\\anaconda3\\lib\\site-packages\\pandas\\core\\frame.py\n",
       "\u001b[1;31mType:\u001b[0m      method"
      ]
     },
     "metadata": {},
     "output_type": "display_data"
    }
   ],
   "source": [
    "# Check Documentation\n",
    "df.info?"
   ]
  },
  {
   "cell_type": "code",
   "execution_count": 465,
   "id": "3cf54a6b-c3e0-4c44-8d13-6d0714eaf0e6",
   "metadata": {},
   "outputs": [
    {
     "data": {
      "text/plain": [
       "Transaction_ID            0\n",
       "Date                      0\n",
       "Customer_Name             0\n",
       "Product                   0\n",
       "Total_Items               0\n",
       "Total_Cost                0\n",
       "Payment_Method            0\n",
       "City                      0\n",
       "Store_Type                0\n",
       "Discount_Applied          0\n",
       "Customer_Category         0\n",
       "Season                    0\n",
       "Promotion            333943\n",
       "dtype: int64"
      ]
     },
     "execution_count": 465,
     "metadata": {},
     "output_type": "execute_result"
    }
   ],
   "source": [
    "# Show Missing\n",
    "df.isna().sum()"
   ]
  },
  {
   "cell_type": "markdown",
   "id": "a3e69427-5e70-4abf-8ae6-0f7ac67b6328",
   "metadata": {},
   "source": [
    "## Data Type Transformation"
   ]
  },
  {
   "cell_type": "code",
   "execution_count": 468,
   "id": "efab4ac4-47da-4416-a9d5-54cf3c440061",
   "metadata": {},
   "outputs": [
    {
     "name": "stdout",
     "output_type": "stream",
     "text": [
      "<class 'pandas.core.frame.DataFrame'>\n",
      "RangeIndex: 1000000 entries, 0 to 999999\n",
      "Data columns (total 13 columns):\n",
      " #   Column             Non-Null Count    Dtype  \n",
      "---  ------             --------------    -----  \n",
      " 0   Transaction_ID     1000000 non-null  int64  \n",
      " 1   Date               1000000 non-null  object \n",
      " 2   Customer_Name      1000000 non-null  object \n",
      " 3   Product            1000000 non-null  object \n",
      " 4   Total_Items        1000000 non-null  int64  \n",
      " 5   Total_Cost         1000000 non-null  float64\n",
      " 6   Payment_Method     1000000 non-null  object \n",
      " 7   City               1000000 non-null  object \n",
      " 8   Store_Type         1000000 non-null  object \n",
      " 9   Discount_Applied   1000000 non-null  bool   \n",
      " 10  Customer_Category  1000000 non-null  object \n",
      " 11  Season             1000000 non-null  object \n",
      " 12  Promotion          666057 non-null   object \n",
      "dtypes: bool(1), float64(1), int64(2), object(9)\n",
      "memory usage: 92.5+ MB\n"
     ]
    }
   ],
   "source": [
    "#data type before transforming\n",
    "df.info()"
   ]
  },
  {
   "cell_type": "code",
   "execution_count": 470,
   "id": "e5c04828-e121-4ae2-8f29-72dcecf14f63",
   "metadata": {},
   "outputs": [],
   "source": [
    "# Convert Date column to datetime\n",
    "df['Date'] = pd.to_datetime(df['Date'], errors='coerce')"
   ]
  },
  {
   "cell_type": "code",
   "execution_count": 472,
   "id": "307a599b-fef2-4cb1-9ce2-8ea9d9c2d5c0",
   "metadata": {},
   "outputs": [],
   "source": [
    "# Convert relevant columns to category type\n",
    "categorical_columns = ['Customer_Category', 'Store_Type', 'City', 'Payment_Method', 'Season', 'Promotion']\n",
    "df[categorical_columns] = df[categorical_columns].astype('category')"
   ]
  },
  {
   "cell_type": "code",
   "execution_count": 473,
   "id": "6a1810e6-4399-41c4-aba4-a8b1e8cd1343",
   "metadata": {},
   "outputs": [
    {
     "name": "stdout",
     "output_type": "stream",
     "text": [
      "<class 'pandas.core.frame.DataFrame'>\n",
      "RangeIndex: 1000000 entries, 0 to 999999\n",
      "Data columns (total 13 columns):\n",
      " #   Column             Non-Null Count    Dtype         \n",
      "---  ------             --------------    -----         \n",
      " 0   Transaction_ID     1000000 non-null  int64         \n",
      " 1   Date               1000000 non-null  datetime64[ns]\n",
      " 2   Customer_Name      1000000 non-null  object        \n",
      " 3   Product            1000000 non-null  object        \n",
      " 4   Total_Items        1000000 non-null  int64         \n",
      " 5   Total_Cost         1000000 non-null  float64       \n",
      " 6   Payment_Method     1000000 non-null  category      \n",
      " 7   City               1000000 non-null  category      \n",
      " 8   Store_Type         1000000 non-null  category      \n",
      " 9   Discount_Applied   1000000 non-null  bool          \n",
      " 10  Customer_Category  1000000 non-null  category      \n",
      " 11  Season             1000000 non-null  category      \n",
      " 12  Promotion          666057 non-null   category      \n",
      "dtypes: bool(1), category(6), datetime64[ns](1), float64(1), int64(2), object(2)\n",
      "memory usage: 52.5+ MB\n"
     ]
    }
   ],
   "source": [
    "#data type after transforming\n",
    "df.info()"
   ]
  },
  {
   "cell_type": "markdown",
   "id": "29afc2fd-9069-4283-94f4-26e61673fac2",
   "metadata": {},
   "source": [
    "## Handling Missing Value"
   ]
  },
  {
   "cell_type": "code",
   "execution_count": 477,
   "id": "1105c4ce-0d39-4428-82c3-2031bf7035ee",
   "metadata": {},
   "outputs": [
    {
     "name": "stdout",
     "output_type": "stream",
     "text": [
      "Transaction_ID        0.00\n",
      "Date                  0.00\n",
      "Customer_Name         0.00\n",
      "Product               0.00\n",
      "Total_Items           0.00\n",
      "Total_Cost            0.00\n",
      "Payment_Method        0.00\n",
      "City                  0.00\n",
      "Store_Type            0.00\n",
      "Discount_Applied      0.00\n",
      "Customer_Category     0.00\n",
      "Season                0.00\n",
      "Promotion            33.39\n",
      "dtype: float64\n"
     ]
    }
   ],
   "source": [
    "# Detect Missing Value Percentage\n",
    "missing_values = df.isnull().sum()\n",
    "total_values = df.shape[0]\n",
    "\n",
    "percentage_missing = round((missing_values / total_values) * 100, 2)\n",
    "\n",
    "print(percentage_missing)"
   ]
  },
  {
   "cell_type": "code",
   "execution_count": 479,
   "id": "7e955e6f-8d58-4bdf-a1c9-c966f514e326",
   "metadata": {},
   "outputs": [],
   "source": [
    "# Copy Dataset\n",
    "df1 = df.copy()"
   ]
  },
  {
   "cell_type": "code",
   "execution_count": 481,
   "id": "a40a8eae-211d-4ad4-bf6d-822604b8c08f",
   "metadata": {},
   "outputs": [
    {
     "data": {
      "text/plain": [
       "(1000000, 13)"
      ]
     },
     "execution_count": 481,
     "metadata": {},
     "output_type": "execute_result"
    }
   ],
   "source": [
    "# Check Number of Row\n",
    "df1.shape"
   ]
  },
  {
   "cell_type": "code",
   "execution_count": 483,
   "id": "8ab5c87e-6faa-4306-bc23-53e7b8ca7854",
   "metadata": {},
   "outputs": [
    {
     "data": {
      "text/plain": [
       "count                         666057\n",
       "unique                             2\n",
       "top       Discount on Selected Items\n",
       "freq                          333370\n",
       "Name: Promotion, dtype: object"
      ]
     },
     "execution_count": 483,
     "metadata": {},
     "output_type": "execute_result"
    }
   ],
   "source": [
    "# Show The Descriptive Stats (promotion)\n",
    "df1['Promotion'].describe()"
   ]
  },
  {
   "cell_type": "code",
   "execution_count": 485,
   "id": "8b008558-9216-442c-b332-57f0053d1539",
   "metadata": {},
   "outputs": [],
   "source": [
    "# Handling Missing Values (promotion)\n",
    "mode_value = df['Promotion'].mode()[0]\n",
    "df['Promotion'].fillna(mode_value, inplace=True)"
   ]
  },
  {
   "cell_type": "code",
   "execution_count": 487,
   "id": "b87fa980-274d-4069-8da4-418e116b8db0",
   "metadata": {},
   "outputs": [
    {
     "data": {
      "text/plain": [
       "Transaction_ID       0\n",
       "Date                 0\n",
       "Customer_Name        0\n",
       "Product              0\n",
       "Total_Items          0\n",
       "Total_Cost           0\n",
       "Payment_Method       0\n",
       "City                 0\n",
       "Store_Type           0\n",
       "Discount_Applied     0\n",
       "Customer_Category    0\n",
       "Season               0\n",
       "Promotion            0\n",
       "dtype: int64"
      ]
     },
     "execution_count": 487,
     "metadata": {},
     "output_type": "execute_result"
    }
   ],
   "source": [
    "df.isnull().sum()"
   ]
  },
  {
   "cell_type": "markdown",
   "id": "c208557c-2a3d-41ba-9fd0-687d37f19116",
   "metadata": {},
   "source": [
    "## Detecting and Handling outliers "
   ]
  },
  {
   "cell_type": "code",
   "execution_count": 490,
   "id": "e35d96a0-1106-4c83-ad31-d58e67e5e870",
   "metadata": {},
   "outputs": [
    {
     "data": {
      "image/png": "[encoded data removed]",
      "text/plain": [
       "<Figure size 640x480 with 1 Axes>"
      ]
     },
     "metadata": {},
     "output_type": "display_data"
    },
    {
     "data": {
      "image/png": "[encoded data removed]",
      "text/plain": [
       "<Figure size 640x480 with 1 Axes>"
      ]
     },
     "metadata": {},
     "output_type": "display_data"
    },
    {
     "data": {
      "image/png": "[encoded data removed]",
      "text/plain": [
       "<Figure size 640x480 with 1 Axes>"
      ]
     },
     "metadata": {},
     "output_type": "display_data"
    }
   ],
   "source": [
    "## Detecting Outlier by visualization using Boxplot\n",
    "df1_num = df1.select_dtypes(include=[\"int64\", \"float64\"])\n",
    "for i in df1_num:\n",
    "    sns.boxplot(data=df1_num, x = i)\n",
    "    plt.show()"
   ]
  },
  {
   "cell_type": "code",
   "execution_count": 492,
   "id": "c58d12be-cff1-4355-8aca-173ebe5b8ea0",
   "metadata": {},
   "outputs": [
    {
     "name": "stdout",
     "output_type": "stream",
     "text": [
      "Outliers in Total_Items:\n",
      "Empty DataFrame\n",
      "Columns: [Transaction_ID, Date, Customer_Name, Product, Total_Items, Total_Cost, Payment_Method, City, Store_Type, Discount_Applied, Customer_Category, Season, Promotion]\n",
      "Index: []\n",
      "\n",
      "Outliers in Total_Cost:\n",
      "Empty DataFrame\n",
      "Columns: [Transaction_ID, Date, Customer_Name, Product, Total_Items, Total_Cost, Payment_Method, City, Store_Type, Discount_Applied, Customer_Category, Season, Promotion]\n",
      "Index: []\n",
      "\n",
      "Outliers in Transaction_ID:\n",
      "Empty DataFrame\n",
      "Columns: [Transaction_ID, Date, Customer_Name, Product, Total_Items, Total_Cost, Payment_Method, City, Store_Type, Discount_Applied, Customer_Category, Season, Promotion]\n",
      "Index: []\n"
     ]
    }
   ],
   "source": [
    "## detecting outlier using Z-Score Method\n",
    "def detect_outliers_iqr(df, column):\n",
    "    Q1 = df[column].quantile(0.25)\n",
    "    Q3 = df[column].quantile(0.75)\n",
    "    IQR = Q3 - Q1\n",
    "    lower_bound = Q1 - 1.5 * IQR\n",
    "    upper_bound = Q3 + 1.5 * IQR\n",
    "    return df[(df[column] < lower_bound) | (df[column] > upper_bound)]\n",
    "\n",
    "# Detect outliers in Total_Items, Total_Cost, and Transaction ID\n",
    "outliers_total_items = detect_outliers_iqr(df, \"Total_Items\")\n",
    "outliers_total_cost = detect_outliers_iqr(df, \"Total_Cost\")\n",
    "outliers_transaction_id = detect_outliers_iqr(df, \"Transaction_ID\")\n",
    "\n",
    "print(\"Outliers in Total_Items:\")\n",
    "print(outliers_total_items)\n",
    "\n",
    "print(\"\\nOutliers in Total_Cost:\")\n",
    "print(outliers_total_cost)\n",
    "\n",
    "print(\"\\nOutliers in Transaction_ID:\")\n",
    "print(outliers_transaction_id)"
   ]
  },
  {
   "cell_type": "code",
   "execution_count": 494,
   "id": "31716ea1-db67-46c6-8b2a-34f12b9b2dc0",
   "metadata": {},
   "outputs": [
    {
     "name": "stdout",
     "output_type": "stream",
     "text": [
      "Empty DataFrame\n",
      "Columns: [Transaction_ID, Transaction_ID_Outlier, Total_Items, Total_Items_Outlier, Total_Cost, Total_Cost_Outlier]\n",
      "Index: []\n"
     ]
    }
   ],
   "source": [
    "## detecting outlier using Interquartile Range (IQR) Method\n",
    "# Define a function to detect outliers using IQR for each numeric column\n",
    "def detect_outliers_iqr(df, column):\n",
    "    Q1 = df[column].quantile(0.25)\n",
    "    Q3 = df[column].quantile(0.75)\n",
    "    IQR = Q3 - Q1\n",
    "    lower_bound = Q1 - 1.5 * IQR\n",
    "    upper_bound = Q3 + 1.5 * IQR\n",
    "    # Return a boolean series indicating the presence of outliers\n",
    "    return (df[column] < lower_bound) | (df[column] > upper_bound)\n",
    "\n",
    "# Apply the function to numeric columns to detect outliers\n",
    "numeric_columns = [\"Total_Items\", \"Total_Cost\", \"Transaction_ID\"] \n",
    "for col in numeric_columns:\n",
    "    df[f\"{col}_Outlier\"] = detect_outliers_iqr(df, col)\n",
    "\n",
    "# View rows with outliers in Total_Items, Total_Cost, and Transaction_ID\n",
    "outliers_df = df[(df[\"Total_Items_Outlier\"]) | (df[\"Total_Cost_Outlier\"]) | (df[\"Transaction_ID_Outlier\"])][[\"Transaction_ID\", \"Transaction_ID_Outlier\", \"Total_Items\", \"Total_Items_Outlier\", \"Total_Cost\", \"Total_Cost_Outlier\"]]\n",
    "print(outliers_df)\n"
   ]
  },
  {
   "cell_type": "code",
   "execution_count": 496,
   "id": "04e9b188-26d7-4655-9f32-0ff26ea71c88",
   "metadata": {},
   "outputs": [
    {
     "name": "stdout",
     "output_type": "stream",
     "text": [
      "Number of outliers in Total_Items: 0\n",
      "Number of outliers in Total_Cost: 0\n",
      "Number of outliers in Transaction_ID: 0\n"
     ]
    }
   ],
   "source": [
    "# Count outliers in Total_Items, Total_Cost, and Transaction_ID\n",
    "total_outliers_items = df[\"Total_Items_Outlier\"].sum()\n",
    "total_outliers_cost = df[\"Total_Cost_Outlier\"].sum()\n",
    "total_outliers_transaction_id = df[\"Transaction_ID_Outlier\"].sum()\n",
    "\n",
    "print(f\"Number of outliers in Total_Items: {total_outliers_items}\")\n",
    "print(f\"Number of outliers in Total_Cost: {total_outliers_cost}\")\n",
    "print(f\"Number of outliers in Transaction_ID: {total_outliers_transaction_id}\")\n"
   ]
  },
  {
   "cell_type": "code",
   "execution_count": 498,
   "id": "88ec321a-34ad-4f87-8945-a73cd1aa8d66",
   "metadata": {},
   "outputs": [
    {
     "name": "stdout",
     "output_type": "stream",
     "text": [
      "No remaining outliers found in the dataset.\n"
     ]
    }
   ],
   "source": [
    "# Filter to check if there are any remaining outliers\n",
    "remaining_outliers_df = df[(df[\"Total_Items_Outlier\"]) | (df[\"Total_Cost_Outlier\"]) | (df[\"Transaction_ID_Outlier\"])]\n",
    "\n",
    "# Display remaining outliers if any exist\n",
    "if not remaining_outliers_df.empty:\n",
    "    print(\"Remaining Outliers:\")\n",
    "    print(remaining_outliers_df[[\"Total_Items\", \"Total_Items_Outlier\", \"Total_Cost\", \"Total_Cost_Outlier\", \"Transaction_ID\", \"Transaction_ID_Outlier\"]])\n",
    "else:\n",
    "    print(\"No remaining outliers found in the dataset.\")\n"
   ]
  },
  {
   "cell_type": "markdown",
   "id": "ebac594d-b23a-4f3e-9b50-489b2d140d65",
   "metadata": {},
   "source": [
    "### Z-Score Method"
   ]
  },
  {
   "cell_type": "code",
   "execution_count": 501,
   "id": "0cfdcea4-0668-43a5-84fa-1447751a227a",
   "metadata": {},
   "outputs": [],
   "source": [
    "# detecting outlier using Z-score\n",
    "from scipy.stats import zscore"
   ]
  },
  {
   "cell_type": "code",
   "execution_count": 503,
   "id": "f99778b9-51ba-410a-8469-1f245b462a97",
   "metadata": {},
   "outputs": [],
   "source": [
    "# Calculate Z-score for Total_items, Total_Cost, and Transaction_ID\n",
    "df[\"Total_Items_Z\"] = zscore(df[\"Total_Items\"])\n",
    "df[\"Total_Cost_Z\"] = zscore(df[\"Total_Cost\"])\n",
    "df[\"Transaction_ID_Z\"] = zscore(df[\"Transaction_ID\"])"
   ]
  },
  {
   "cell_type": "code",
   "execution_count": 505,
   "id": "fdec5648-ce64-48eb-9f70-6d96bc0db95e",
   "metadata": {},
   "outputs": [],
   "source": [
    "# Define Z-score threshold for outliers\n",
    "z_threshold = 3"
   ]
  },
  {
   "cell_type": "code",
   "execution_count": 507,
   "id": "90977a3f-7d74-47e0-842a-f650d56088be",
   "metadata": {},
   "outputs": [],
   "source": [
    "# Identify outliers\n",
    "outliers_total_items_z = df[df['Total_Items_Z'].abs() > z_threshold]\n",
    "outliers_total_cost_z = df[df['Total_Cost_Z'].abs() > z_threshold]\n",
    "outliers_transaction_id_z = df[df['Transaction_ID_Z'].abs() > z_threshold]"
   ]
  },
  {
   "cell_type": "code",
   "execution_count": 509,
   "id": "de1ed97a-b13c-4798-9aa1-3d4bd4600b43",
   "metadata": {},
   "outputs": [
    {
     "name": "stdout",
     "output_type": "stream",
     "text": [
      "Z-score Outliers in Total_Items:\n",
      "Empty DataFrame\n",
      "Columns: [Total_Items, Total_Items_Z]\n",
      "Index: []\n"
     ]
    }
   ],
   "source": [
    "print(\"Z-score Outliers in Total_Items:\")\n",
    "print(outliers_total_items_z[[\"Total_Items\", \"Total_Items_Z\"]])"
   ]
  },
  {
   "cell_type": "code",
   "execution_count": 511,
   "id": "9e0847df-b544-483a-ae7c-fbe5ad623b2c",
   "metadata": {},
   "outputs": [
    {
     "name": "stdout",
     "output_type": "stream",
     "text": [
      "Z-score Outliers in Total_Cost:\n",
      "Empty DataFrame\n",
      "Columns: [Total_Cost, Total_Cost_Z]\n",
      "Index: []\n"
     ]
    }
   ],
   "source": [
    "print(\"Z-score Outliers in Total_Cost:\")\n",
    "print(outliers_total_items_z[[\"Total_Cost\", \"Total_Cost_Z\"]])"
   ]
  },
  {
   "cell_type": "code",
   "execution_count": 513,
   "id": "139e4004-8a31-4dc0-bc6c-b29614b84ec6",
   "metadata": {},
   "outputs": [
    {
     "name": "stdout",
     "output_type": "stream",
     "text": [
      "Z-score Outliers in Transaction_ID:\n",
      "Empty DataFrame\n",
      "Columns: [Transaction_ID, Transaction_ID_Z]\n",
      "Index: []\n"
     ]
    }
   ],
   "source": [
    "print(\"Z-score Outliers in Transaction_ID:\")\n",
    "print(outliers_total_cost_z[[\"Transaction_ID\", \"Transaction_ID_Z\"]])"
   ]
  },
  {
   "cell_type": "markdown",
   "id": "f82b4db6-abd9-4dab-8c97-982c8293d8f2",
   "metadata": {},
   "source": [
    "### Interquartile Range Method (IQR)"
   ]
  },
  {
   "cell_type": "code",
   "execution_count": 516,
   "id": "9e9dec63-b045-41fe-8672-60fe82b873bc",
   "metadata": {},
   "outputs": [],
   "source": [
    "# detecting outlier using Interquartile Range (IQR) Method\n",
    "def detect_outliers_iqr(df, column):\n",
    "    Q1 = df[column].quantile(0.24)\n",
    "    Q3 = df[column].quantile(0.75)\n",
    "    IQR = Q3 - Q1\n",
    "    lower_bound = Q1 - 1.5 * IQR\n",
    "    upper_bound = Q3 + 1.5 * IQR\n",
    "    return df[(df[column] < lower_bound) | (df[column] > upper_bound)]"
   ]
  },
  {
   "cell_type": "code",
   "execution_count": 518,
   "id": "bcd71daa-16f8-4603-bdc1-438df4aad7d3",
   "metadata": {},
   "outputs": [],
   "source": [
    "# Detect outliers in Total_items, Total_cost, and Transaction ID\n",
    "outliers_total_items = detect_outliers_iqr(df, \"Total_Items\")\n",
    "outliers_total_cost = detect_outliers_iqr(df, \"Total_Cost\")\n",
    "outliers_transaction_id = detect_outliers_iqr(df, \"Transaction_ID\")"
   ]
  },
  {
   "cell_type": "code",
   "execution_count": 520,
   "id": "ca5a1775-af8b-4e6a-85d8-6c9da86aac10",
   "metadata": {},
   "outputs": [
    {
     "name": "stdout",
     "output_type": "stream",
     "text": [
      "Outliers in Total_Items:\n",
      "Empty DataFrame\n",
      "Columns: [Transaction_ID, Date, Customer_Name, Product, Total_Items, Total_Cost, Payment_Method, City, Store_Type, Discount_Applied, Customer_Category, Season, Promotion, Total_Items_Outlier, Total_Cost_Outlier, Transaction_ID_Outlier, Total_Items_Z, Total_Cost_Z, Transaction_ID_Z]\n",
      "Index: []\n"
     ]
    }
   ],
   "source": [
    "print(\"Outliers in Total_Items:\")\n",
    "print(outliers_total_items)"
   ]
  },
  {
   "cell_type": "code",
   "execution_count": 522,
   "id": "1523f974-b0da-4d9b-96d4-19818ccb8db8",
   "metadata": {},
   "outputs": [
    {
     "name": "stdout",
     "output_type": "stream",
     "text": [
      "Outliers in Total_Cost:\n",
      "Empty DataFrame\n",
      "Columns: [Transaction_ID, Date, Customer_Name, Product, Total_Items, Total_Cost, Payment_Method, City, Store_Type, Discount_Applied, Customer_Category, Season, Promotion, Total_Items_Outlier, Total_Cost_Outlier, Transaction_ID_Outlier, Total_Items_Z, Total_Cost_Z, Transaction_ID_Z]\n",
      "Index: []\n"
     ]
    }
   ],
   "source": [
    "print(\"Outliers in Total_Cost:\")\n",
    "print(outliers_total_cost)"
   ]
  },
  {
   "cell_type": "code",
   "execution_count": 524,
   "id": "0259f122-c0fa-4540-b10f-cf0fb0adde64",
   "metadata": {},
   "outputs": [
    {
     "name": "stdout",
     "output_type": "stream",
     "text": [
      "Outliers in Transaction_ID:\n",
      "Empty DataFrame\n",
      "Columns: [Transaction_ID, Date, Customer_Name, Product, Total_Items, Total_Cost, Payment_Method, City, Store_Type, Discount_Applied, Customer_Category, Season, Promotion, Total_Items_Outlier, Total_Cost_Outlier, Transaction_ID_Outlier, Total_Items_Z, Total_Cost_Z, Transaction_ID_Z]\n",
      "Index: []\n"
     ]
    }
   ],
   "source": [
    "print(\"Outliers in Transaction_ID:\")\n",
    "print(outliers_transaction_id)"
   ]
  },
  {
   "cell_type": "markdown",
   "id": "f54ae9d6-6392-4bb1-9f55-ba45f9995bff",
   "metadata": {},
   "source": [
    "### Detecting And Handling The Outlier"
   ]
  },
  {
   "cell_type": "code",
   "execution_count": 527,
   "id": "fa56df81-e400-43eb-9022-5c775b11f6e1",
   "metadata": {},
   "outputs": [
    {
     "name": "stdout",
     "output_type": "stream",
     "text": [
      "Empty DataFrame\n",
      "Columns: [Transaction_ID, Transaction_ID_Outlier, Total_Items, Total_Items_Outlier, Total_Cost, Total_Cost_Outlier]\n",
      "Index: []\n"
     ]
    }
   ],
   "source": [
    "## detecting outlier using Interquartile Range (IQR) Method\n",
    "# Define a function to detect outliers using IQR for each numeric column\n",
    "def detect_outliers_iqr(df, column):\n",
    "    Q1 = df[column].quantile(0.25)\n",
    "    Q3 = df[column].quantile(0.75)\n",
    "    IQR = Q3 - Q1\n",
    "    lower_bound = Q1 - 1.5 * IQR\n",
    "    upper_bound = Q3 + 1.5 * IQR\n",
    "    # Return a boolean series indicating the presence of outliers\n",
    "    return (df[column] < lower_bound) | (df[column] > upper_bound)\n",
    "\n",
    "# Apply the function to numeric columns to detect outliers\n",
    "numeric_columns = [\"Total_Items\", \"Total_Cost\", \"Transaction_ID\"] \n",
    "for col in numeric_columns:\n",
    "    df[f\"{col}_Outlier\"] = detect_outliers_iqr(df, col)\n",
    "\n",
    "# View rows with outliers in Total_Items, Total_Cost, and Transaction_ID\n",
    "outliers_df = df[(df[\"Total_Items_Outlier\"]) | (df[\"Total_Cost_Outlier\"]) | (df[\"Transaction_ID_Outlier\"])][[\"Transaction_ID\", \"Transaction_ID_Outlier\", \"Total_Items\", \"Total_Items_Outlier\", \"Total_Cost\", \"Total_Cost_Outlier\"]]\n",
    "print(outliers_df)\n"
   ]
  },
  {
   "cell_type": "code",
   "execution_count": 529,
   "id": "3d64eb00-3b57-4893-b25b-4a42a193b84a",
   "metadata": {},
   "outputs": [
    {
     "name": "stdout",
     "output_type": "stream",
     "text": [
      "Number of outliers in Total_Items: 0\n",
      "Number of outliers in Total_Cost: 0\n",
      "Number of outliers in Transaction_ID: 0\n"
     ]
    }
   ],
   "source": [
    "# Count outliers in Total_Items, Total_Cost, and Transaction_ID\n",
    "total_outliers_items = df[\"Total_Items_Outlier\"].sum()\n",
    "total_outliers_cost = df[\"Total_Cost_Outlier\"].sum()\n",
    "total_outliers_transaction_id = df[\"Transaction_ID_Outlier\"].sum()\n",
    "\n",
    "print(f\"Number of outliers in Total_Items: {total_outliers_items}\")\n",
    "print(f\"Number of outliers in Total_Cost: {total_outliers_cost}\")\n",
    "print(f\"Number of outliers in Transaction_ID: {total_outliers_transaction_id}\")"
   ]
  },
  {
   "cell_type": "code",
   "execution_count": 531,
   "id": "01eaae1a-a87c-4b18-82a9-c4e6ea3dbcdd",
   "metadata": {},
   "outputs": [
    {
     "name": "stdout",
     "output_type": "stream",
     "text": [
      "No remaining outliers found in the dataset.\n"
     ]
    }
   ],
   "source": [
    "# Filter to check if there are any remaining outliers\n",
    "remaining_outliers_df = df[(df[\"Total_Items_Outlier\"]) | (df[\"Total_Cost_Outlier\"]) | (df[\"Transaction_ID_Outlier\"])]\n",
    "\n",
    "# Display remaining outliers if any exist\n",
    "if not remaining_outliers_df.empty:\n",
    "    print(\"Remaining Outliers:\")\n",
    "    print(remaining_outliers_df[[\"Total_Items\", \"Total_Items_Outlier\", \"Total_Cost\", \"Total_Cost_Outlier\", \"Transaction_ID\", \"Transaction_ID_Outlier\"]])\n",
    "else:\n",
    "    print(\"No remaining outliers found in the dataset.\")\n"
   ]
  },
  {
   "cell_type": "markdown",
   "id": "e390d6a5-d71a-4560-922b-e220a8601f3f",
   "metadata": {},
   "source": [
    "### Descriptive Statistics"
   ]
  },
  {
   "cell_type": "code",
   "execution_count": 534,
   "id": "b8d40205-ab9e-48bf-a0a1-d08939699b13",
   "metadata": {},
   "outputs": [],
   "source": [
    "# visualization\n",
    "import seaborn as sns\n",
    "import matplotlib.pyplot as plt"
   ]
  },
  {
   "cell_type": "code",
   "execution_count": 536,
   "id": "294c6663-f04c-4eda-bce3-ef05b71abb22",
   "metadata": {},
   "outputs": [
    {
     "data": {
      "text/html": [
       "<div>\n",
       "<style scoped>\n",
       "    .dataframe tbody tr th:only-of-type {\n",
       "        vertical-align: middle;\n",
       "    }\n",
       "\n",
       "    .dataframe tbody tr th {\n",
       "        vertical-align: top;\n",
       "    }\n",
       "\n",
       "    .dataframe thead th {\n",
       "        text-align: right;\n",
       "    }\n",
       "</style>\n",
       "<table border=\"1\" class=\"dataframe\">\n",
       "  <thead>\n",
       "    <tr style=\"text-align: right;\">\n",
       "      <th></th>\n",
       "      <th>Transaction_ID</th>\n",
       "      <th>Date</th>\n",
       "      <th>Total_Items</th>\n",
       "      <th>Total_Cost</th>\n",
       "      <th>Total_Items_Z</th>\n",
       "      <th>Total_Cost_Z</th>\n",
       "      <th>Transaction_ID_Z</th>\n",
       "    </tr>\n",
       "  </thead>\n",
       "  <tbody>\n",
       "    <tr>\n",
       "      <th>count</th>\n",
       "      <td>1.000000e+06</td>\n",
       "      <td>1000000</td>\n",
       "      <td>1000000.0</td>\n",
       "      <td>1000000.0</td>\n",
       "      <td>1000000.0</td>\n",
       "      <td>1000000.0</td>\n",
       "      <td>1000000.0</td>\n",
       "    </tr>\n",
       "    <tr>\n",
       "      <th>mean</th>\n",
       "      <td>1.000500e+09</td>\n",
       "      <td>2022-03-10 21:46:28.440430080</td>\n",
       "      <td>5.0</td>\n",
       "      <td>52.0</td>\n",
       "      <td>-0.0</td>\n",
       "      <td>0.0</td>\n",
       "      <td>-0.0</td>\n",
       "    </tr>\n",
       "    <tr>\n",
       "      <th>min</th>\n",
       "      <td>1.000000e+09</td>\n",
       "      <td>2020-01-01 00:03:54</td>\n",
       "      <td>1.0</td>\n",
       "      <td>5.0</td>\n",
       "      <td>-2.0</td>\n",
       "      <td>-2.0</td>\n",
       "      <td>-2.0</td>\n",
       "    </tr>\n",
       "    <tr>\n",
       "      <th>25%</th>\n",
       "      <td>1.000250e+09</td>\n",
       "      <td>2021-02-03 23:15:59.249999872</td>\n",
       "      <td>3.0</td>\n",
       "      <td>29.0</td>\n",
       "      <td>-1.0</td>\n",
       "      <td>-1.0</td>\n",
       "      <td>-1.0</td>\n",
       "    </tr>\n",
       "    <tr>\n",
       "      <th>50%</th>\n",
       "      <td>1.000500e+09</td>\n",
       "      <td>2022-03-10 19:23:17.500000</td>\n",
       "      <td>5.0</td>\n",
       "      <td>52.0</td>\n",
       "      <td>-0.0</td>\n",
       "      <td>-0.0</td>\n",
       "      <td>0.0</td>\n",
       "    </tr>\n",
       "    <tr>\n",
       "      <th>75%</th>\n",
       "      <td>1.000750e+09</td>\n",
       "      <td>2023-04-14 23:06:37</td>\n",
       "      <td>8.0</td>\n",
       "      <td>76.0</td>\n",
       "      <td>1.0</td>\n",
       "      <td>1.0</td>\n",
       "      <td>1.0</td>\n",
       "    </tr>\n",
       "    <tr>\n",
       "      <th>max</th>\n",
       "      <td>1.001000e+09</td>\n",
       "      <td>2024-05-18 19:31:03</td>\n",
       "      <td>10.0</td>\n",
       "      <td>100.0</td>\n",
       "      <td>2.0</td>\n",
       "      <td>2.0</td>\n",
       "      <td>2.0</td>\n",
       "    </tr>\n",
       "    <tr>\n",
       "      <th>std</th>\n",
       "      <td>2.886750e+05</td>\n",
       "      <td>NaN</td>\n",
       "      <td>3.0</td>\n",
       "      <td>27.0</td>\n",
       "      <td>1.0</td>\n",
       "      <td>1.0</td>\n",
       "      <td>1.0</td>\n",
       "    </tr>\n",
       "  </tbody>\n",
       "</table>\n",
       "</div>"
      ],
      "text/plain": [
       "       Transaction_ID                           Date  Total_Items  Total_Cost  \\\n",
       "count    1.000000e+06                        1000000    1000000.0   1000000.0   \n",
       "mean     1.000500e+09  2022-03-10 21:46:28.440430080          5.0        52.0   \n",
       "min      1.000000e+09            2020-01-01 00:03:54          1.0         5.0   \n",
       "25%      1.000250e+09  2021-02-03 23:15:59.249999872          3.0        29.0   \n",
       "50%      1.000500e+09     2022-03-10 19:23:17.500000          5.0        52.0   \n",
       "75%      1.000750e+09            2023-04-14 23:06:37          8.0        76.0   \n",
       "max      1.001000e+09            2024-05-18 19:31:03         10.0       100.0   \n",
       "std      2.886750e+05                            NaN          3.0        27.0   \n",
       "\n",
       "       Total_Items_Z  Total_Cost_Z  Transaction_ID_Z  \n",
       "count      1000000.0     1000000.0         1000000.0  \n",
       "mean            -0.0           0.0              -0.0  \n",
       "min             -2.0          -2.0              -2.0  \n",
       "25%             -1.0          -1.0              -1.0  \n",
       "50%             -0.0          -0.0               0.0  \n",
       "75%              1.0           1.0               1.0  \n",
       "max              2.0           2.0               2.0  \n",
       "std              1.0           1.0               1.0  "
      ]
     },
     "execution_count": 536,
     "metadata": {},
     "output_type": "execute_result"
    }
   ],
   "source": [
    "round(df.describe(),0)"
   ]
  },
  {
   "cell_type": "markdown",
   "id": "2f57caff-bdbf-47c6-968d-f58b1253ea82",
   "metadata": {},
   "source": [
    "1. We can see from the table above there are 1.000.000 rows of data which means there are 1 million transaction in this dataset, ranging from index 0 to 999999\n",
    "2. Now we take a look at the `Total_Items` column, the `mean` of `Total_Items` is `5`, that means in average the `Total_Items` that the customer bought in this dataset is around `5` items. While the minimum of `Total_Items` bought is `1`, which makes sense because you need atleast 1 item for purchase in order for that data to be stored in the data set. The maximum of `Total_Items` bought in this entire 1 million row of data is `10`.\n",
    "3.  Atlast we can take a look at the `Total_Cost` column, the `mean` of `Total_Cost` is `52`, that means in average the `Total_Cost` that is spend by customer in this dataset is around `52` in currency. While minimum `Total_Cost` that is spend by 1 or more customer is `5` in currency. The maximum however is `100` in currency from the entire 1 million row of data."
   ]
  },
  {
   "cell_type": "code",
   "execution_count": 539,
   "id": "51bee5e2-2110-4bbf-a63b-d35b2a602ead",
   "metadata": {},
   "outputs": [
    {
     "data": {
      "text/html": [
       "<div>\n",
       "<style scoped>\n",
       "    .dataframe tbody tr th:only-of-type {\n",
       "        vertical-align: middle;\n",
       "    }\n",
       "\n",
       "    .dataframe tbody tr th {\n",
       "        vertical-align: top;\n",
       "    }\n",
       "\n",
       "    .dataframe thead th {\n",
       "        text-align: right;\n",
       "    }\n",
       "</style>\n",
       "<table border=\"1\" class=\"dataframe\">\n",
       "  <thead>\n",
       "    <tr style=\"text-align: right;\">\n",
       "      <th></th>\n",
       "      <th>Customer_Name</th>\n",
       "      <th>Product</th>\n",
       "      <th>Payment_Method</th>\n",
       "      <th>City</th>\n",
       "      <th>Store_Type</th>\n",
       "      <th>Discount_Applied</th>\n",
       "      <th>Customer_Category</th>\n",
       "      <th>Season</th>\n",
       "      <th>Promotion</th>\n",
       "      <th>Total_Items_Outlier</th>\n",
       "      <th>Total_Cost_Outlier</th>\n",
       "      <th>Transaction_ID_Outlier</th>\n",
       "    </tr>\n",
       "  </thead>\n",
       "  <tbody>\n",
       "    <tr>\n",
       "      <th>count</th>\n",
       "      <td>1000000</td>\n",
       "      <td>1000000</td>\n",
       "      <td>1000000</td>\n",
       "      <td>1000000</td>\n",
       "      <td>1000000</td>\n",
       "      <td>1000000</td>\n",
       "      <td>1000000</td>\n",
       "      <td>1000000</td>\n",
       "      <td>1000000</td>\n",
       "      <td>1000000</td>\n",
       "      <td>1000000</td>\n",
       "      <td>1000000</td>\n",
       "    </tr>\n",
       "    <tr>\n",
       "      <th>unique</th>\n",
       "      <td>329738</td>\n",
       "      <td>571947</td>\n",
       "      <td>4</td>\n",
       "      <td>10</td>\n",
       "      <td>6</td>\n",
       "      <td>2</td>\n",
       "      <td>8</td>\n",
       "      <td>4</td>\n",
       "      <td>2</td>\n",
       "      <td>1</td>\n",
       "      <td>1</td>\n",
       "      <td>1</td>\n",
       "    </tr>\n",
       "    <tr>\n",
       "      <th>top</th>\n",
       "      <td>Michael Smith</td>\n",
       "      <td>['Toothpaste']</td>\n",
       "      <td>Cash</td>\n",
       "      <td>Boston</td>\n",
       "      <td>Supermarket</td>\n",
       "      <td>True</td>\n",
       "      <td>Senior Citizen</td>\n",
       "      <td>Spring</td>\n",
       "      <td>Discount on Selected Items</td>\n",
       "      <td>False</td>\n",
       "      <td>False</td>\n",
       "      <td>False</td>\n",
       "    </tr>\n",
       "    <tr>\n",
       "      <th>freq</th>\n",
       "      <td>454</td>\n",
       "      <td>4893</td>\n",
       "      <td>250230</td>\n",
       "      <td>100566</td>\n",
       "      <td>166936</td>\n",
       "      <td>500104</td>\n",
       "      <td>125485</td>\n",
       "      <td>250368</td>\n",
       "      <td>667313</td>\n",
       "      <td>1000000</td>\n",
       "      <td>1000000</td>\n",
       "      <td>1000000</td>\n",
       "    </tr>\n",
       "  </tbody>\n",
       "</table>\n",
       "</div>"
      ],
      "text/plain": [
       "        Customer_Name         Product Payment_Method     City   Store_Type  \\\n",
       "count         1000000         1000000        1000000  1000000      1000000   \n",
       "unique         329738          571947              4       10            6   \n",
       "top     Michael Smith  ['Toothpaste']           Cash   Boston  Supermarket   \n",
       "freq              454            4893         250230   100566       166936   \n",
       "\n",
       "       Discount_Applied Customer_Category   Season  \\\n",
       "count           1000000           1000000  1000000   \n",
       "unique                2                 8        4   \n",
       "top                True    Senior Citizen   Spring   \n",
       "freq             500104            125485   250368   \n",
       "\n",
       "                         Promotion Total_Items_Outlier Total_Cost_Outlier  \\\n",
       "count                      1000000             1000000            1000000   \n",
       "unique                           2                   1                  1   \n",
       "top     Discount on Selected Items               False              False   \n",
       "freq                        667313             1000000            1000000   \n",
       "\n",
       "       Transaction_ID_Outlier  \n",
       "count                 1000000  \n",
       "unique                      1  \n",
       "top                     False  \n",
       "freq                  1000000  "
      ]
     },
     "execution_count": 539,
     "metadata": {},
     "output_type": "execute_result"
    }
   ],
   "source": [
    "df.describe(include=[\"object\",\"category\",\"bool\"])"
   ]
  },
  {
   "cell_type": "markdown",
   "id": "422d5b89-a6b4-4d94-a246-20b68a3953bc",
   "metadata": {},
   "source": [
    "1. We can see from the table above that there are `996337` `unique` `Customer_Name`, and the most frequent customer is `Michael Smith` with a frequency of `454` times in this 1 million rows of data.\n",
    "2. Let's take a look at the `Product` column, the most frequent product that keeps being purchased is `['Toothpaste']` with a frequency of `4893` times.\n",
    "3. While there are `4` `unique` `Payment_Method`, the most frequent payment method is `Cash` with `250230` times, which means that around 25% of the 1 million purchases were made using cash.\n",
    "4. Now we can take a look at the `City` column, there are `10` `unique` cities in this dataset, and the most frequent city is `Boston` with a frequency of `100566` times.\n",
    "5. Let's take a look at the `Store_Type` column, there are `6` `unique` `Store_Type` with the most frequent `Store_Type` being `Supermarket`, with a frequency of `166936` times.\n",
    "6. The `Discount_Applied` has `2` unique (`True`/`False`), since its a bool data type and the most frequent is `True` with a frequency of `500104` times, which means around 50% of transactions were done with the discount applied.\n",
    "7. The `Customer_Category` column has `8` `unique` categories, with the most frequent being `Senior Citizen` with `125485` occurrences, which means that around 12% of the 1 million purchases were done by Senior Citizen.\n",
    "8. The `Season` column has `4` `unique` seasons, with the most frequent being `Spring` with `250368` occurrences, which means that around 25%% of the 1 million purchases were done in `Spring`.\n",
    "9. The `Promotion` column has `3` `unique` promotions, with the most frequent being `None` with `333943` occurrences, which means that around 33%% of the 1 million purchases were without any promotion."
   ]
  },
  {
   "cell_type": "markdown",
   "id": "63efcba5-014e-49d5-a250-a32f78db2b1e",
   "metadata": {},
   "source": [
    "### Measures of Central Tendency"
   ]
  },
  {
   "cell_type": "code",
   "execution_count": 543,
   "id": "edb635ae-3559-42d0-bb81-a11e5cd4a4bd",
   "metadata": {},
   "outputs": [
    {
     "name": "stdout",
     "output_type": "stream",
     "text": [
      "                                           Mean                      Median\n",
      "Transaction_ID                     1000499999.5                1000499999.5\n",
      "Date              2022-03-10 21:46:28.440430080  2022-03-10 19:23:17.500000\n",
      "Total_Items                            5.495941                         5.0\n",
      "Total_Cost                             52.45522                       52.42\n",
      "Total_Items_Z                              -0.0                   -0.172702\n",
      "Total_Cost_Z                                0.0                   -0.001285\n",
      "Transaction_ID_Z                           -0.0                         0.0\n"
     ]
    }
   ],
   "source": [
    "# Computing mean, and median to see the central tendency of each column\n",
    "central_tendency = pd.DataFrame({\n",
    "    'Mean': df.select_dtypes(exclude=[\"object\", \"bool\", \"category\"]).mean(),\n",
    "    'Median': df.select_dtypes(exclude=[\"object\", \"bool\", \"category\"]).median()\n",
    "})\n",
    "\n",
    "print(central_tendency)"
   ]
  },
  {
   "cell_type": "markdown",
   "id": "d396272f-5ec4-43b8-95ca-e2759547979d",
   "metadata": {},
   "source": [
    "We can describe data distribution based on its mean and median values.\n",
    "\n",
    "- If `Median` = `Mean`: symmetrical distribution\n",
    "- If `Median` > `Mean`: negative skew distribution\n",
    "- If `Median` < `Mean`: positive skew distribution\n",
    "\n",
    "1. We can see from the output above the column `Total_Items`'s `Median` is smaller than `Mean` value, which means this column have a positive skew distribution.\n",
    "2. The `Total_Cost` column has roughly the same `Median` and `Mean` value, which means this column probably have a symmetrical distribution."
   ]
  },
  {
   "cell_type": "markdown",
   "id": "7f976281-6621-4cc9-90ca-ad0bf78cc3e1",
   "metadata": {},
   "source": [
    "### Measures of Dispersion"
   ]
  },
  {
   "cell_type": "code",
   "execution_count": 547,
   "id": "ecf3308b-b998-48a9-93e4-d7e3193251a7",
   "metadata": {},
   "outputs": [
    {
     "name": "stdout",
     "output_type": "stream",
     "text": [
      "Transaction_ID range from:  1000000000 to  1000999999 ,  Transaction_ID data spread : 999999\n",
      "Date range from:  2020-01-01 00:03:54 to  2024-05-18 19:31:03 ,  Date data spread : 1599 days 19:27:09\n",
      "Total_Items range from:  1 to  10 ,  Total_Items data spread : 9\n",
      "Total_Cost range from:  5.0 to  100.0 ,  Total_Cost data spread : 95.0\n",
      "Total_Items_Z range from:  -1.5656283643057198 to  1.5684553077779393 ,  Total_Items_Z data spread : 3.1340836720836593\n",
      "Total_Cost_Z range from:  -1.7308700045827476 to  1.7341365647547975 ,  Total_Cost_Z data spread : 3.465006569337545\n",
      "Transaction_ID_Z range from:  -1.732049075518936 to  1.732049075518936 ,  Transaction_ID_Z data spread : 3.464098151037872\n"
     ]
    }
   ],
   "source": [
    "df_num = df.select_dtypes(exclude=[\"object\", \"bool\", \"category\"])\n",
    "for i in df_num:\n",
    "    try:\n",
    "        print(i, \"range from: \", df[i].min(), \"to \", df[i].max(), \", \", f\"{i} data spread : {df[i].max() - df[i].min()}\")\n",
    "    except:\n",
    "        pass"
   ]
  },
  {
   "cell_type": "markdown",
   "id": "9b772654-f9fe-4ae3-bd57-faf5d2d347f2",
   "metadata": {},
   "source": [
    "From information above, we can see that the range of data on `Date` are spread around `2020-01-01` to `2024-05-18`, which means that the data is spread around `1599 days` in between those values, we can also see that the range of data on `Total_Items` are spread around `1` to `10`, which means that the data is spread around `9` in between those values. This indicates the variation or spread of the `Total_Items` data. While the `Total_Cost` range from `5.0` To  `100.0`, which means that the data is spread around `95` in between those values."
   ]
  },
  {
   "cell_type": "code",
   "execution_count": 550,
   "id": "fe9a3d99-1625-4aaa-aff3-e2043a2c4034",
   "metadata": {},
   "outputs": [
    {
     "data": {
      "text/plain": [
       "Transaction_ID      8.333342e+10\n",
       "Total_Items         8.246398e+00\n",
       "Total_Cost          7.516913e+02\n",
       "Total_Items_Z       1.000001e+00\n",
       "Total_Cost_Z        1.000001e+00\n",
       "Transaction_ID_Z    1.000001e+00\n",
       "dtype: float64"
      ]
     },
     "execution_count": 550,
     "metadata": {},
     "output_type": "execute_result"
    }
   ],
   "source": [
    "# computing the variance for each feature\n",
    "df.select_dtypes(include=[\"int64\", \"float64\"]).var()"
   ]
  },
  {
   "cell_type": "code",
   "execution_count": 552,
   "id": "dc0a259b-d11b-4554-b910-2fa8cc872137",
   "metadata": {},
   "outputs": [
    {
     "data": {
      "text/plain": [
       "Transaction_ID      288675.278933\n",
       "Total_Items              2.871654\n",
       "Total_Cost              27.416989\n",
       "Total_Items_Z            1.000000\n",
       "Total_Cost_Z             1.000001\n",
       "Transaction_ID_Z         1.000001\n",
       "dtype: float64"
      ]
     },
     "execution_count": 552,
     "metadata": {},
     "output_type": "execute_result"
    }
   ],
   "source": [
    "# computing the standard deviation for each feature\n",
    "df.select_dtypes(include=[\"int64\", \"float64\"]).std()"
   ]
  },
  {
   "cell_type": "code",
   "execution_count": 554,
   "id": "976d8073-6648-4ab6-988b-15a675528b09",
   "metadata": {},
   "outputs": [
    {
     "data": {
      "image/png": "[encoded data removed]",
      "text/plain": [
       "<Figure size 800x400 with 1 Axes>"
      ]
     },
     "metadata": {},
     "output_type": "display_data"
    },
    {
     "name": "stdout",
     "output_type": "stream",
     "text": [
      "Q1 (Cyan): 1000249999.75 | Q3 (Cyan): 1000749999.25 | IQR:  499999.5\n"
     ]
    },
    {
     "data": {
      "image/png": "[encoded data removed]",
      "text/plain": [
       "<Figure size 800x400 with 1 Axes>"
      ]
     },
     "metadata": {},
     "output_type": "display_data"
    },
    {
     "name": "stdout",
     "output_type": "stream",
     "text": [
      "Q1 (Cyan): 3.0 | Q3 (Cyan): 8.0 | IQR:  5.0\n"
     ]
    },
    {
     "data": {
      "image/png": "[encoded data removed]",
      "text/plain": [
       "<Figure size 800x400 with 1 Axes>"
      ]
     },
     "metadata": {},
     "output_type": "display_data"
    },
    {
     "name": "stdout",
     "output_type": "stream",
     "text": [
      "Q1 (Cyan): 28.71 | Q3 (Cyan): 76.19 | IQR:  47.48\n"
     ]
    },
    {
     "data": {
      "image/png": "[encoded data removed]",
      "text/plain": [
       "<Figure size 800x400 with 1 Axes>"
      ]
     },
     "metadata": {},
     "output_type": "display_data"
    },
    {
     "name": "stdout",
     "output_type": "stream",
     "text": [
      "Q1 (Cyan): -0.8691653260649068 | Q3 (Cyan): 0.871992269537126 | IQR:  1.7411575956020329\n"
     ]
    },
    {
     "data": {
      "image/png": "[encoded data removed]",
      "text/plain": [
       "<Figure size 800x400 with 1 Axes>"
      ]
     },
     "metadata": {},
     "output_type": "display_data"
    },
    {
     "name": "stdout",
     "output_type": "stream",
     "text": [
      "Q1 (Cyan): -0.8660773123828192 | Q3 (Cyan): 0.8656964972187243 | IQR:  1.7317738096015436\n"
     ]
    },
    {
     "data": {
      "image/png": "[encoded data removed]",
      "text/plain": [
       "<Figure size 800x400 with 1 Axes>"
      ]
     },
     "metadata": {},
     "output_type": "display_data"
    },
    {
     "name": "stdout",
     "output_type": "stream",
     "text": [
      "Q1 (Cyan): -0.866024537759468 | Q3 (Cyan): 0.866024537759468 | IQR:  1.732049075518936\n"
     ]
    }
   ],
   "source": [
    "# plot distribution\n",
    "df_num = df.select_dtypes(include=[\"int64\", \"float64\"])\n",
    "for i in df_num:\n",
    "    plt.figure(figsize = (8,4))\n",
    "    sns.distplot(df_num[i])\n",
    "    plt.axvline(df_num[i].mean(), color='r') # vertical\n",
    "    plt.axvline(df_num[i].median(), color='g') # vertical\n",
    "    plt.axvline(df_num[i].quantile(0.25), color='c') # vertical\n",
    "    plt.axvline(df_num[i].quantile(0.75), color='c') # vertical\n",
    "    plt.axvline((df_num[i].mean() - df_num[i].std()), color='y') # vertical\n",
    "    plt.axvline((df_num[i].mean() + df_num[i].std()), color='y') # vertical\n",
    "    plt.show()\n",
    "    print(\"Q1 (Cyan):\", df_num[i].quantile(0.25), \"| Q3 (Cyan):\", df_num[i].quantile(0.75), \"| IQR: \", df_num[i].quantile(0.75) - df_num[i].quantile(0.25))"
   ]
  },
  {
   "cell_type": "markdown",
   "id": "b1601a68-0e72-4ba2-a9bc-a1aff01953d1",
   "metadata": {},
   "source": [
    "Plot above is a plot that show the distribution on each numeric column, with the values of `mean` and `median` are colored by red and green respectively, the colour cyan is the `quantile range`, while the yellow line indicates the spread of the data (if it's a normally distributed data). This means that if we pick a random values on one of the column, we will get a values between those yellow lines."
   ]
  },
  {
   "cell_type": "markdown",
   "id": "ed2e158b-9f02-414e-af3b-a2236883325f",
   "metadata": {},
   "source": [
    "### Measure Of Shape"
   ]
  },
  {
   "cell_type": "code",
   "execution_count": 558,
   "id": "b3ea9a19-ad4b-4751-bf38-dd41539d8fab",
   "metadata": {},
   "outputs": [
    {
     "data": {
      "text/plain": [
       "Transaction_ID     -2.511790e-15\n",
       "Total_Items         1.557325e-03\n",
       "Total_Cost          1.570532e-03\n",
       "Total_Items_Z       1.557325e-03\n",
       "Total_Cost_Z        1.570532e-03\n",
       "Transaction_ID_Z    1.982701e-16\n",
       "dtype: float64"
      ]
     },
     "execution_count": 558,
     "metadata": {},
     "output_type": "execute_result"
    }
   ],
   "source": [
    "df_num.skew()"
   ]
  },
  {
   "cell_type": "markdown",
   "id": "508c3a7f-ef1f-4476-9927-a676b67c3150",
   "metadata": {},
   "source": [
    "- The skew() method calculates the skew for each column. From the information above, we can see that `Total_Items` and `Total_Cost` are having positive values (pos skewness), this indicates that these features are having a right tailed distribution. While `Transaction_ID`  has a negative values (neg skewness), this indicates a left tailed distribution."
   ]
  },
  {
   "cell_type": "code",
   "execution_count": 561,
   "id": "5e93aecc-e48b-42a0-91fa-a4236a00b00f",
   "metadata": {},
   "outputs": [
    {
     "data": {
      "text/plain": [
       "Transaction_ID     -1.200000\n",
       "Total_Items        -1.223532\n",
       "Total_Cost         -1.198979\n",
       "Total_Items_Z      -1.223532\n",
       "Total_Cost_Z       -1.198979\n",
       "Transaction_ID_Z   -1.200000\n",
       "dtype: float64"
      ]
     },
     "execution_count": 561,
     "metadata": {},
     "output_type": "execute_result"
    }
   ],
   "source": [
    "df_num.kurtosis()  "
   ]
  },
  {
   "cell_type": "markdown",
   "id": "f298537a-229b-4b67-b912-eba25c49eaf0",
   "metadata": {},
   "source": [
    "- The kurtosis() method calculates the kurtosis for each column, The higher the value means the higher the height of the kurtosis and the lower the value means the higher the flatness of the kurtosis gets. From the information above, we can see that `Total_Items`, `Transaction_ID` and `Total_Cost` are having negative values, this indicates that these features probaly have a flat kurtosis (negative kurtosis)"
   ]
  },
  {
   "cell_type": "markdown",
   "id": "b65b3654-1b28-4f84-a16e-a7867ae7ce1f",
   "metadata": {},
   "source": [
    "### Correlation"
   ]
  },
  {
   "cell_type": "code",
   "execution_count": 565,
   "id": "daa7f4d9-0754-4439-b317-52f5837c4d60",
   "metadata": {},
   "outputs": [
    {
     "data": {
      "text/plain": [
       "<Axes: >"
      ]
     },
     "execution_count": 565,
     "metadata": {},
     "output_type": "execute_result"
    },
    {
     "data": {
      "image/png": "[encoded data removed]",
      "text/plain": [
       "<Figure size 640x480 with 2 Axes>"
      ]
     },
     "metadata": {},
     "output_type": "display_data"
    }
   ],
   "source": [
    "# visualizing with correlation matrix\n",
    "sns.heatmap(df_num.corr(), annot=True)"
   ]
  },
  {
   "cell_type": "markdown",
   "id": "c16350e8-276e-4f90-a6dc-61718f5e9046",
   "metadata": {},
   "source": [
    "From the visualization above, we can conclude: \r\n",
    "1. `Transaction_ID` and `Total_Items` have a weak or almost non positive correlation (`0.00051`), meaning that there are no relationship to `Total_Items` if the `Transaction_ID` increase.\r\n",
    "2. `Transaction_ID` and `Total_Cost` have a weak or almost non negative correlation (`-0.00013`), meaning that there are no relationship to `Total_Cost` if the `Transaction_ID` increase.\r\n",
    "3. `Total_Items` and `Total_Cost` have a weak or almost non positive correlation (`5.6e-05`), meaning that there are no relationship to `Total_Cost` if the `Total_Items` increase."
   ]
  },
  {
   "cell_type": "markdown",
   "id": "386ab9e0-d542-4c13-9588-ce46617bb6d0",
   "metadata": {},
   "source": [
    "## SUMMARY"
   ]
  },
  {
   "cell_type": "markdown",
   "id": "180f4e01-1daf-4e55-923b-d9bcb69c4f7a",
   "metadata": {},
   "source": [
    "After analyzing the dataset, we conclude that there are no outliers in our dataset. Key observations include:\n",
    "\n",
    "- Distribution Analysis:\n",
    "The Total_Cost column appears to have a symmetrical distribution, as the median and mean values are approximately equal.\n",
    "\n",
    "- Visualization Insights:\n",
    "The distribution plots show mean (red) and median (green) values, with cyan representing the quantile range and yellow lines indicating the expected spread for normally distributed data.\n",
    "\n",
    "- Skewness and Kurtosis:\n",
    "Skew method reveals positive skewness for Total_Items and Total_Cost, indicating right-tailed distributions, while Transaction_ID shows negative skewness, indicating a left-tailed distribution.\n",
    "For Kurtosis() method indicates that Total_Items, Transaction_ID, and Total_Cost have negative kurtosis, suggesting a flatter distribution.\n",
    "\n",
    "- Correlation Analysis:\n",
    "There is a weak or negligible correlation\n",
    "\n",
    "Overall, the analysis suggests minimal relationships between the variables."
   ]
  }
 ],
 "metadata": {
  "kernelspec": {
   "display_name": "Python 3 (ipykernel)",
   "language": "python",
   "name": "python3"
  },
  "language_info": {
   "codemirror_mode": {
    "name": "ipython",
    "version": 3
   },
   "file_extension": ".py",
   "mimetype": "text/x-python",
   "name": "python",
   "nbconvert_exporter": "python",
   "pygments_lexer": "ipython3",
   "version": "3.12.4"
  }
 },
 "nbformat": 4,
 "nbformat_minor": 5
}
